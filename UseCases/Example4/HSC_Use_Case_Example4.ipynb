{
 "cells": [
  {
   "cell_type": "markdown",
   "id": "b70ecd7d-b379-4fc7-b8ab-b7274d0749f7",
   "metadata": {},
   "source": [
    "# A Hubble Source Catalog (HSC) Use Case\n",
    "\n",
    "- [Example #4: Using the Discovery Portal to perform cross-matching between an input catalog and the HSC][1]\n",
    "  - (Search for HST data relevant to Supernova 2005cs in the galaxy M51)\n",
    "  \n",
    "![crossmatch_0][2]\n",
    "\n",
    "\n",
    "  [1]: https://archive.stsci.edu/hst/hsc/help/use_case_4_v1.html\n",
    "  [2]: screenshots/crossmatch_0.png"
   ]
  },
  {
   "cell_type": "markdown",
   "id": "635c8334-2287-4552-b5ff-32d08e6373f2",
   "metadata": {},
   "source": [
    "<span style=\"color:red;\">Goal</span>: This tutorial shows you how to use the [MAST Discovery Portal][1] to perform cross-matching between an input catalog and the HSC. It also shows how to use the [Hubble Legacy Archive][2] to search for Hubble data that is not in the HSC.\n",
    "\n",
    "<span style=\"color:red;\">SCIENCE CASE</span>: The science case is to search for HST data relevant to a supernova (i.e. SN2005cs in the galaxy M51; see Maund et al. 2005, MNRAS, 364, 33, and Li et al. 2006, ApJ, 641, 1060).\n",
    "\n",
    "\n",
    "  [1]: https://mast.stsci.edu/portal/Mashup/Clients/Mast/Portal.html\n",
    "  [2]: https://hla.stsci.edu/"
   ]
  },
  {
   "cell_type": "code",
   "execution_count": null,
   "id": "d3665b2f-47d6-4671-b672-4b0ee876d87d",
   "metadata": {},
   "outputs": [],
   "source": [
    "import time\n",
    "import sys\n",
    "import os\n",
    "import requests\n",
    "import json\n",
    "import numpy as np\n",
    "import matplotlib.pyplot as plt\n",
    "import seaborn as sns\n",
    "import pandas as pd\n",
    "\n",
    "from scipy.stats import linregress\n",
    "from sklearn.linear_model import LinearRegression\n",
    "\n",
    "from PIL import Image\n",
    "from io import BytesIO, StringIO\n",
    "\n",
    "from astroquery.mast import Observations\n",
    "import astropy\n",
    "from astropy.coordinates import SkyCoord\n",
    "from astropy.table import Table, join\n",
    "from astropy.io import ascii\n",
    "\n",
    "# check that version of mastcasjobs is new enough\n",
    "# we are using some features not in version 0.0.1\n",
    "from pkg_resources import get_distribution\n",
    "from packaging.version import Version as V\n",
    "\n",
    "assert V(get_distribution(\"mastcasjobs\").version) >= V('0.0.2'), \"\"\"\n",
    "A newer version of mastcasjobs is required.\n",
    "Update mastcasjobs to current version using this command:\n",
    "pip install --upgrade git+git://github.com/rlwastro/mastcasjobs@master\n",
    "\"\"\"\n",
    "\n",
    "import mastcasjobs\n",
    "\n",
    "# set width for pprint\n",
    "astropy.conf.max_width = 150\n",
    "\n",
    "import warnings\n",
    "warnings.filterwarnings('ignore')"
   ]
  },
  {
   "cell_type": "code",
   "execution_count": null,
   "id": "502155ad-a64b-4054-b639-b01645243d08",
   "metadata": {},
   "outputs": [],
   "source": [
    "# import hsc catalog search utilites and image search utilites from local py files\n",
    "from search_utils import *\n",
    "from image_utils import *"
   ]
  },
  {
   "cell_type": "code",
   "execution_count": null,
   "id": "68bf7083-1272-4a15-a872-20a13554471f",
   "metadata": {},
   "outputs": [],
   "source": [
    "pd.set_option('display.max_columns', 700)\n",
    "pd.set_option('display.max_rows', 400)\n",
    "pd.set_option('display.min_rows', 10)\n",
    "pd.set_option('display.expand_frame_repr', True)"
   ]
  },
  {
   "cell_type": "code",
   "execution_count": null,
   "id": "d203bc9d-4f0c-45f2-bdb0-92a3d8c5c3bc",
   "metadata": {},
   "outputs": [],
   "source": [
    "HSCContext = \"HSCv3\""
   ]
  },
  {
   "cell_type": "markdown",
   "id": "b0d4a9e3-ccb9-44ea-9adf-269d30f169c6",
   "metadata": {
    "tags": []
   },
   "source": [
    "Set up Casjobs environment."
   ]
  },
  {
   "cell_type": "code",
   "execution_count": null,
   "id": "0afec2d1-68cf-4dde-b38f-b75c0f40e0a2",
   "metadata": {},
   "outputs": [],
   "source": [
    "import getpass\n",
    "if not os.environ.get('CASJOBS_USERID'):\n",
    "    os.environ['CASJOBS_USERID'] = input('Enter Casjobs UserID:')\n",
    "if not os.environ.get('CASJOBS_PW'):\n",
    "    os.environ['CASJOBS_PW'] = getpass.getpass('Enter Casjobs password:')"
   ]
  },
  {
   "cell_type": "markdown",
   "id": "834a7c9c-32b3-462b-8fdb-5a2f361e6a14",
   "metadata": {},
   "source": [
    "## <span style=\"color:red;\">Step 1</span>\n",
    "\n",
    "Create a catalog of objects to be cross-matched with the HSC. In this case, we want a catalog of known supernovae in 2005. This list was created using data from the [IAU Central Bureau for Astronomical Telegrams][1]. The [list][2] is in CSV format, and looks like this:\n",
    "\n",
    "```lang-none\n",
    "RA,Dec,Name,Host Galaxy\n",
    "37.68021,-2.93883,SN 2005A,NGC 958\n",
    "268.70342,71.54292,SN 2005B, UGC 11066\n",
    "168.87258,60.75153,SN 2005C, Anon.\n",
    "```\n",
    "\n",
    "There are 367 objects listed in the file, which are located all over the sky.\n",
    "\n",
    "NOTE: The coordinates for SN 2005c in the attached list have been changed from the IAU position to the improved position 202.4699167 47.17658333 (see discussion in Maund et al 2005, and Li et al. 2006).\n",
    "\n",
    "\n",
    "  [1]: http://www.cbat.eps.harvard.edu/lists/Supernovae.html\n",
    "  [2]: https://archive.stsci.edu/hst/hsc/help/use_case_4_v1/sn2005.csv"
   ]
  },
  {
   "cell_type": "markdown",
   "id": "ee6a8c21-9483-4588-9b5c-5b10bf23df7e",
   "metadata": {},
   "source": [
    "## <span style=\"color:red;\">Step 2</span> - Go to the [MAST Discovery Portal][1]\n",
    "\n",
    "Upload the catalog by clicking on the ![import][2] Upload File icon (<span style=\"color:blue;\">blue</span>). Use the browse button to find the supernova file you downloaded in Step 1, then click on the import button. The catalog now has its own tab (<span style=\"color:green;\">green</span>), and the AstroView window shows the location of the first object in the catalog.\n",
    "\n",
    "![crossmatch_1][3]\n",
    "\n",
    "  [1]: http://mast.stsci.edu/portal/Mashup/Clients/Mast/Portal.html\n",
    "  [2]: screenshots/import.png\n",
    "  [3]: screenshots/crossmatch_1.png"
   ]
  },
  {
   "cell_type": "code",
   "execution_count": null,
   "id": "a64cd641-f7bf-4eed-ba86-b4f9053b380b",
   "metadata": {},
   "outputs": [],
   "source": [
    "# load the file from step 1,  and load the non-empty columns\n",
    "url = 'https://archive.stsci.edu/hst/hsc/help/use_case_4_v1/sn2005.csv'\n",
    "df = pd.read_csv(url, usecols=[0, 1, 2, 3]).rename({'RA': 'ra', 'Dec': 'dec', 'Name': 'target'}, axis=1)\n",
    "df.to_csv('sn2005.csv', index=False)\n",
    "df = pd.read_csv('sn2005.csv')\n",
    "df.head()"
   ]
  },
  {
   "cell_type": "code",
   "execution_count": null,
   "id": "4bc1f127-5854-4d73-94e5-cc49514d1c75",
   "metadata": {},
   "outputs": [],
   "source": [
    "# specify the first row as the target\n",
    "target = df.loc[0, 'Host Galaxy']\n",
    "coord = SkyCoord.from_name(target)\n",
    "\n",
    "ra = coord.ra.degree\n",
    "dec = coord.dec.degree\n",
    "radius = 500 # arcsec\n",
    "\n",
    "print(f'ra: {ra}\\ndec: {dec}')"
   ]
  },
  {
   "cell_type": "code",
   "execution_count": null,
   "id": "f0ab23e7-dab9-4fb4-b61c-c69484a4227f",
   "metadata": {},
   "outputs": [],
   "source": [
    "filters = \"gri\"\n",
    "size_deg = 0.2\n",
    "zoom = 0.33\n",
    "\n",
    "pixel_size = 0.25 # PS1 pixel size in arcsec\n",
    "# get size in pixels from image size in degrees\n",
    "size = int(size_deg*3600/pixel_size)"
   ]
  },
  {
   "cell_type": "code",
   "execution_count": null,
   "id": "65c88115-75c2-42a4-92ca-31e759c8e296",
   "metadata": {},
   "outputs": [],
   "source": [
    "# color JPEG image\n",
    "cim = getcolorim(ra, dec, zoom=zoom, size=size, filters=filters, format=\"jpg\", autoscale=99.5)\n",
    "print(f\"Got {cim.size} color jpeg image\")\n",
    "\n",
    "# get Gaia EDR3 catalog (search a circle that just touches the image edges)\n",
    "gcat = getgaia(ra, dec, radius=size_deg/2)\n",
    "print(f\"Got {len(gcat)} Gaia EDR3 sources\")\n",
    "\n",
    "# extract image WCS\n",
    "iwcs = getwcs(cim)\n",
    "gcat['x'], gcat['y'] = iwcs.wcs_world2pix(gcat['ra'], gcat['dec'], 0)"
   ]
  },
  {
   "cell_type": "code",
   "execution_count": null,
   "id": "256185fe-0153-4fc6-98f0-2da6d590eb3a",
   "metadata": {},
   "outputs": [],
   "source": [
    "target_xy = gcat[(gcat['ra'].round(11) == ra) & (gcat['dec'].round(11) == dec)]"
   ]
  },
  {
   "cell_type": "code",
   "execution_count": null,
   "id": "968cccff-fad9-4cb1-bda6-46e83d90f701",
   "metadata": {},
   "outputs": [],
   "source": [
    "fig, ax = plt.subplots(figsize=(10, 10))\n",
    "ax.set_title(f'{target} PS1 {filters}')\n",
    "# note we must specify the extent to get the pixel origin in the lower left corner\n",
    "ax.imshow(cim, origin=\"upper\", extent=(0, cim.size[0], 0, cim.size[1]))\n",
    "ax.plot('x', 'y', 'o', markerfacecolor='none', data=gcat)\n",
    "ax.plot('x', 'y', '+r', data=target_xy)\n",
    "plt.show()"
   ]
  },
  {
   "cell_type": "markdown",
   "id": "168707ce-e083-4bc0-ab38-2268958cac48",
   "metadata": {},
   "source": [
    "## <span style=\"color:red;\">Step 3</span> - Perform the cross-matching\n",
    "\n",
    "Click on the ![crossmatch_24][1] icon (<span style=\"color:blue;\">blue</span>), which generates a popup where you can select the catalog (i.e. HSC; <span style=\"color:green;\">green</span>) and matching radius (default of 3 arcsec; <span style=\"color:orange;\">orange</span>); see below for a discussion of the search radius. Click Cross-Match (<span style=\"color:yellow;\">yellow</span>).\n",
    "\n",
    "![crossmatch_2][3]\n",
    "\n",
    "\n",
    "  [1]: screenshots/crossmatch_24.png\n",
    "  [2]: https://archive.stsci.edu/hst/hsc/help/use_case_4_v1.html#radius\n",
    "  [3]: screenshots/crossmatch_2.png"
   ]
  },
  {
   "cell_type": "markdown",
   "id": "a50bfd80-a1b7-48e2-b36a-a54226f4218e",
   "metadata": {},
   "source": [
    "### Cone search with HSC API"
   ]
  },
  {
   "cell_type": "code",
   "execution_count": null,
   "id": "1e199a51-8768-4d93-a451-f4e757415e0b",
   "metadata": {},
   "outputs": [],
   "source": [
    "radius = 1 # degrees\n",
    "cone = hcvcone(ra, dec, radius, table=\"summary\")\n",
    "tab_hcv = ascii.read(cone)\n",
    "df_hcv = tab_hcv.to_pandas()\n",
    "df_hcv.sort_values('MatchID', inplace=True, ignore_index=True)"
   ]
  },
  {
   "cell_type": "code",
   "execution_count": null,
   "id": "8c8ad648-1961-4d1b-9acb-139e7a806fad",
   "metadata": {},
   "outputs": [],
   "source": [
    "df_hcv.head()"
   ]
  },
  {
   "cell_type": "code",
   "execution_count": null,
   "id": "563765b6-bf19-4633-8b81-44670b95a362",
   "metadata": {},
   "outputs": [],
   "source": [
    "len(df_hcv)"
   ]
  },
  {
   "cell_type": "code",
   "execution_count": null,
   "id": "909ff2cc-47d8-42db-b533-08c95118d203",
   "metadata": {},
   "outputs": [],
   "source": [
    "# save typing a quoted list of columns"
   ]
  },
  {
   "cell_type": "code",
   "execution_count": null,
   "id": "ef3062ad-ad0d-487f-bed9-10519d34c050",
   "metadata": {},
   "outputs": [],
   "source": [
    "columns = \"\"\"MatchID,MatchRA,MatchDec,TargetName,NumFilters,NumVisits,NumImages,StartMJD,StopMJD\"\"\".split(\",\")\n",
    "\n",
    "tab_hsc = hsccone(ra, dec, 1, table=\"summary\", release='v3', columns=columns, verbose=True, format=\"table\")\n",
    "df_hsc = tab_hsc.to_pandas()"
   ]
  },
  {
   "cell_type": "code",
   "execution_count": null,
   "id": "92d5db21-a78e-45b8-843c-be8280fe4ca4",
   "metadata": {},
   "outputs": [],
   "source": [
    "df_hsc.head()"
   ]
  },
  {
   "cell_type": "markdown",
   "id": "e1313ba8-8e25-4b9b-b084-3e04dc4a0ccc",
   "metadata": {},
   "source": [
    "### Crossmatch\n",
    "\n",
    "- [Catalogs.MAST - Hubble Source Catalog][1]\n",
    "- [`POST /hsc/crossmatch/upload.*/?`][2]\n",
    "\n",
    "\n",
    "  [1]: https://catalogs.mast.stsci.edu/docs/hsc.html#hubble-source-catalog\n",
    "  [2]: https://catalogs.mast.stsci.edu/docs/hsc.html#post--hsc-crossmatch.*-?"
   ]
  },
  {
   "cell_type": "code",
   "execution_count": null,
   "id": "aae22b4e-4036-4331-80b6-081c9e6fefd0",
   "metadata": {},
   "outputs": [],
   "source": [
    "filename = 'sn2005.csv'\n",
    "itab = Table.read(filename,format='ascii.csv')\n",
    "print(f\"Input table {filename} has {len(itab)} rows\")"
   ]
  },
  {
   "cell_type": "code",
   "execution_count": null,
   "id": "999a80d7-dea3-4818-bc8e-9e9912b18aa4",
   "metadata": {},
   "outputs": [],
   "source": [
    "itab"
   ]
  },
  {
   "cell_type": "code",
   "execution_count": null,
   "id": "bd820677-c858-4052-9e29-38d79e19237c",
   "metadata": {},
   "outputs": [],
   "source": [
    "url = 'https://catalogs.mast.stsci.edu/api/v0.1/hsc/v3/crossmatch/upload.csv'\n",
    "r = 0.000833            # radius in degrees (3 arcsec)\n",
    "r = requests.post(url, params=dict(radius=r), files=dict(file=open(filename, 'rb')))\n",
    "rtab = Table.read(r.text,format='ascii.csv')\n",
    "print(f\"Match table has {len(rtab)} rows\")"
   ]
  },
  {
   "cell_type": "code",
   "execution_count": null,
   "id": "ae0652be-8434-400b-8c92-e76d85bce87c",
   "metadata": {},
   "outputs": [],
   "source": [
    "rtab[:5]"
   ]
  },
  {
   "cell_type": "code",
   "execution_count": null,
   "id": "239ea92d-fdca-4f80-ae3b-f99f1dd12709",
   "metadata": {},
   "outputs": [],
   "source": [
    "r.url"
   ]
  },
  {
   "cell_type": "code",
   "execution_count": null,
   "id": "efcba3ae-a922-4378-b846-458608c2fae0",
   "metadata": {},
   "outputs": [],
   "source": [
    "tab = join(itab, rtab, keys_left=['ra','dec'], keys_right=['_ra_','_dec_'])\n",
    "print(f\"Joined table has {len(tab)} rows\")\n",
    "assert len(tab) == len(rtab), \"Unexpected mismatch in length\"\n",
    "# delete the unnecessary _ra_ and _dec_ columns\n",
    "del tab['_ra_']\n",
    "del tab['_dec_']\n",
    "\n",
    "cm = tab.to_pandas()\n",
    "cm.head()"
   ]
  },
  {
   "cell_type": "markdown",
   "id": "c6e98703-3d45-4569-a1e1-23429a90d5a0",
   "metadata": {},
   "source": [
    "## <span style=\"color:red;\">Step 4</span> - Review the results\n",
    "\n",
    "There are 60 matches (<span style=\"color:blue;\">blue</span>), although there can be multiple HSC matches for any given supernova if there are several HSC objects within the 3 arcsec of the supernova position (e.g. in this case, there are two matches for SN 2005H, two for SN2005P, 10 for SN 2005V). Note that the RA, Dec, Name, and Host Galaxy columns from the input catalog (<span style=\"color:green;\">green</span>) are at the beginning of the Cross-Match table, followed by information (such as the distance between the catalog position and the HSC position (<span style=\"color:orange;\">orange</span>)) from the HSC.\n",
    "\n",
    "![crossmatch_3][1]\n",
    "\n",
    "If you scroll over in the table, you will see the Target Name from the HST observation. For example, lines 3 and 4 (<span style=\"color:blue;\">blue</span>) were given the name SN2005P, while lines 5-10 (<span style=\"color:green;\">green</span>) were given the name of the galaxy. Note that this name is what the HST observer chose to call the object, so the name may not be useful in determining information about the target (e.g. the first target in the list is ambiguous).\n",
    "\n",
    "![crossmatch_4][2]\n",
    "\n",
    "\n",
    "\n",
    "  [1]: screenshots/crossmatch_3.png\n",
    "  [2]: screenshots/crossmatch_4.png"
   ]
  },
  {
   "cell_type": "code",
   "execution_count": null,
   "id": "bf1a4649-75e0-442e-830b-d35c7b9ae831",
   "metadata": {},
   "outputs": [],
   "source": [
    "# create a dictionary of dataframes where the keys each TargetName and the values are a dataframe\n",
    "targets = dict(tuple(cm.groupby('target')))"
   ]
  },
  {
   "cell_type": "code",
   "execution_count": null,
   "id": "0db24dc9-b52f-4259-92be-6f9485166f94",
   "metadata": {},
   "outputs": [],
   "source": [
    "targets.keys()"
   ]
  },
  {
   "cell_type": "code",
   "execution_count": null,
   "id": "14d7902f-6b01-4476-9470-f48ac67ad2c6",
   "metadata": {},
   "outputs": [],
   "source": [
    "targets['2005P']"
   ]
  },
  {
   "cell_type": "code",
   "execution_count": null,
   "id": "b6ab2468-d10e-411b-8eb5-4f136785adc3",
   "metadata": {},
   "outputs": [],
   "source": [
    "targets['2005V'].head()"
   ]
  },
  {
   "cell_type": "markdown",
   "id": "e9b79216-3c0d-437c-805b-57d0104b40ec",
   "metadata": {},
   "source": [
    "## <span style=\"color:red;\">Step 5</span> - Review the matches in AstroView\n",
    "\n",
    "Under Filters on the left, the Name box shows you how many matches each supernova had with an HSC object (<span style=\"color:blue;\">blue</span>); click on the \"Show 16 more\" button to see the complete list of the 21 (out of the 367) objects that had matches.\n",
    "\n",
    "Clicking on the Focus button ![crosshair_24][1] icon (<span style=\"color:green;\">green</span>) will center the object in the AstroView window (in this case SN 2005P). It's interesting to browse through some to see the locations of the supernovae in their galaxies. If you zoom the AstroView display, you can see both the HSC object(s) (in <span style=\"color:blue;\">blue</span>) and the position of the supernova (in <span style=\"color:orange;\">orange</span>) shown with different color symbols (<span style=\"color:yellow;\">yellow</span>).\n",
    "\n",
    "![crossmatch_5][2]\n",
    "\n",
    "\n",
    "\n",
    "  [1]: screenshots/crosshair_24.png\n",
    "  [2]: screenshots/crossmatch_5.png"
   ]
  },
  {
   "cell_type": "code",
   "execution_count": null,
   "id": "079208b4-1dda-4713-a708-d55d10783c70",
   "metadata": {
    "tags": []
   },
   "outputs": [],
   "source": [
    "cm.value_counts('target')"
   ]
  },
  {
   "cell_type": "markdown",
   "id": "c7ac8fd3-9f8f-4646-ad22-4fdd3107964d",
   "metadata": {},
   "source": [
    "## <span style=\"color:red;\">Step 6</span> - Examine the HST data for SN 2005cs in detail\n",
    "\n",
    "Click on the 2005cs button (<span style=\"color:blue;\">blue</span>) to restrict the data to just this object. We find that there are 10 matches. If you scroll over to the right you will find that line 4 has NumImage = 9, while the others have NumImages between 1 and 5. Lets look at the detailed information for line 4 by clicking the Load Detailed Results ![detailed][1] icon on that row (<span style=\"color:green;\">green</span>).\n",
    "\n",
    "![crossmatch_10][2]\n",
    "\n",
    "  [1]: screenshots/detailed.png\n",
    "  [2]: screenshots/crossmatch_10.png"
   ]
  },
  {
   "cell_type": "code",
   "execution_count": null,
   "id": "60ad3da3-a0b8-4476-b0f8-84853b344ba9",
   "metadata": {},
   "outputs": [],
   "source": [
    "# select data by target and sort by NumImages\n",
    "target_2005cs = cm[cm.target.eq('2005cs')].copy().sort_values('NumImages', ascending=False, ignore_index=True)"
   ]
  },
  {
   "cell_type": "code",
   "execution_count": null,
   "id": "1db3ffa4-4b85-472f-88b0-d469838deffc",
   "metadata": {},
   "outputs": [],
   "source": [
    "target_2005cs.info()"
   ]
  },
  {
   "cell_type": "code",
   "execution_count": null,
   "id": "ed8cffca-1217-40fb-8b83-91d84f4cd50d",
   "metadata": {},
   "outputs": [],
   "source": [
    "target_2005cs.MatchID.nunique()"
   ]
  },
  {
   "cell_type": "code",
   "execution_count": null,
   "id": "fbebe49e-0111-47f9-8131-3512e985f984",
   "metadata": {},
   "outputs": [],
   "source": [
    "# show top five rows and first 24 columns\n",
    "target_2005cs.iloc[:5, :24]"
   ]
  },
  {
   "cell_type": "markdown",
   "id": "52fc2e47-4ba2-4225-b595-df9414ea7a82",
   "metadata": {},
   "source": [
    "This creates a new tab (<span style=\"color:blue;\">blue</span>), and presents cutout preview images for each member of the match (<span style=\"color:green;\">green</span>). Hover over the cutout and it will tell you the name of the image, in this case hst_12762_a6_wfc3_uvis_f689m. There are five measurements with WFPC2 and four WFC3 measurements (<span style=\"color:orange;\">orange</span>) for this object, MatchID = 3972863. The WFC3 observations might be of particular interest since they were taken after the images discussed in the Maund et al. (2005) and Li et al. (2006) papers.\n",
    "\n",
    "![crossmatch_11][3]\n",
    "\n",
    "  [3]: screenshots/crossmatch_11.png"
   ]
  },
  {
   "cell_type": "code",
   "execution_count": null,
   "id": "dea640e1-679b-4f4f-be9b-8e3309dcfea5",
   "metadata": {},
   "outputs": [],
   "source": [
    "# get Images for MatchID with the most NumImages and select data for WFC3\n",
    "hsc_matches = ascii.read(hcvsearch(table='detailed', MatchID=target_2005cs.MatchID[0], Instrument='WFC3'))\n",
    "hsc_matches"
   ]
  },
  {
   "cell_type": "markdown",
   "id": "517d51b1-8fca-4d4a-8065-3b86577cd242",
   "metadata": {},
   "source": [
    "### Plot the brightest, median and faintest magnitudes"
   ]
  },
  {
   "cell_type": "code",
   "execution_count": null,
   "id": "625f354f-98b3-450b-81b8-194295739a78",
   "metadata": {},
   "outputs": [],
   "source": [
    "# sort images by magnitude from brightest to faintest\n",
    "phot = hsc_matches\n",
    "isort = np.argsort(phot['MagAuto'])\n",
    "# select the brightest, median and faintest magnitudes\n",
    "ind = [isort[0], isort[len(isort)//2], isort[-1]]\n",
    "\n",
    "# we plot zoomed-in and zoomed-out views side-by-side for each selected image\n",
    "nim = len(ind)*2\n",
    "ncols = 2 # images per row\n",
    "nrows = (nim+ncols-1)//ncols\n",
    "\n",
    "imsize1 = 19\n",
    "imsize2 = 101\n",
    "mra = hsc_matches['MatchRA'][0]\n",
    "mdec = hsc_matches['MatchDec'][0]\n",
    "\n",
    "# define figure and axes\n",
    "fig, axes = plt.subplots(nrows, ncols, figsize=(12, (12/ncols)*nrows), tight_layout=True)\n",
    "\n",
    "t0 = time.time()\n",
    "\n",
    "# iterate through each set of two subplots in axes\n",
    "for (ax1, ax2), k in zip(axes, ind):\n",
    "    \n",
    "    # get the images\n",
    "    im1 = get_hla_cutout(phot['ImageName'][k], mra, mdec, size=imsize1)\n",
    "    im2 = get_hla_cutout(phot['ImageName'][k], mra, mdec, size=imsize2)\n",
    "    \n",
    "    # plot left column   \n",
    "    ax1.imshow(im1, origin=\"upper\", cmap=\"gray\")\n",
    "    ax1.set_title(f\"{phot['ImageName'][k]} m={phot['MagAuto'][k]:.3f}\", fontsize=14)\n",
    "    \n",
    "    # plot right column\n",
    "    ax2.imshow(im2, origin=\"upper\", cmap=\"gray\")\n",
    "    xbox = np.array([-1, 1])*imsize1/2 + (imsize2-1)//2\n",
    "    ax2.plot(xbox[[0, 1, 1, 0, 0]], xbox[[0, 0, 1, 1, 0]], 'r-', linewidth=1)\n",
    "    ax2.set_title(f\"{phot['ImageName'][k]} m={phot['MagAuto'][k]:.3f}\", fontsize=14)    \n",
    "    \n",
    "print(f\"{(time.time()-t0):.1f} s: got {nrows*ncols} cutouts\")"
   ]
  },
  {
   "cell_type": "markdown",
   "id": "d13dd224-896f-41d1-ab36-34efc553af6c",
   "metadata": {},
   "source": [
    "## <span style=\"color:red;\">Step 7</span> - Compare with Li et al. (2006)\n",
    "\n",
    "Click on the Toggle Overlay Image ![overlay][1] icon (<span style=\"color:yellow;\">yellow</span> in the image above) to overlay the Hubble image in AstroView. Another option is to click on the cutout preview image (<span style=\"color:green;\">green</span>) itself to bring up the HLA Interactive Display, which provides more flexibility for viewing the image (e.g., changing the contrast level), although you will need to use the RA and DEC to find the object.\n",
    "\n",
    "When you zoom in with AstroView, you can see the 10 potential matches (blue squares) to the original search position (orange square). The match that we selected is shown by the light blue square, and turns out to be very close to the position of SN2005cs, as shown by comparison with the Li et al. (2006) image below.\n",
    "\n",
    "![crossmatch_12][2]\n",
    "\n",
    "Note that the Li et al.(2006) paper (and Maund et al. (2005) primarily used ACS observations, which are NOT INCLUDED IN THE HSC. This is an important point, that while the HSC is a useful way to look for HST data, users should not assume there is no other data in the HLA if it is not listed in the HSC. In Step 8 we show how to make a more detailed evaluation of exisiting data using the HLA.\n",
    "\n",
    "\n",
    "\n",
    "  [1]: screenshots/overlay.png\n",
    "  [2]: screenshots/crossmatch_12.png"
   ]
  },
  {
   "cell_type": "markdown",
   "id": "d688cdeb-6597-4f5a-b474-8d2c7ffed39a",
   "metadata": {},
   "source": [
    "## <span style=\"color:red;\">Step 8</span> - Go to the [HLA][1] to search for related data\n",
    "\n",
    "Enter the coordinates (202.4699167 47.17658333) for SN2005cs into the search box (<span style=\"color:blue;\">blue</span>); click on advanced search (<span style=\"color:green;\">green</span>); then click on cutouts (<span style=\"color:orange;\">orange</span>), and then search to see the Inventory. Click on the Images button (<span style=\"color:yellow;\">yellow</span>) to view the cutouts.\n",
    "\n",
    "![crossmatch_14][2]\n",
    "\n",
    "Here are some of the cutouts, including HST_10498_01_ACS_HRC_F555W that has the supernova itself! This is around cutout #350 if you want to find it. It is not included in the HSC because it is an ACS/HRC image. Source lists for this detector will be added to the HSC in the future.\n",
    "\n",
    "![crossmatch_15][3]\n",
    "\n",
    "There are 824 images returned from the HLA search, though in many cases the \"Cutout position is outside image\". You can reduce the number to look at by going to the inventory view and selecting a subset (e.g., by putting *acs* in the box under Detector and clicking).\n",
    "\n",
    "\n",
    "  [1]: http://hla.stsci.edu/\n",
    "  [2]: screenshots/crossmatch_14.png\n",
    "  [3]: screenshots/crossmatch_15.png"
   ]
  },
  {
   "cell_type": "markdown",
   "id": "4839b1fa-dbc2-49ed-9e47-0cb52e68d7ee",
   "metadata": {
    "tags": []
   },
   "source": [
    "## <span style=\"color:red;\">Search Radius selection</span>\n",
    "\n",
    "The selection of the search size can be tricky, and depends on the science you are trying to accomplish. For this case, we want a radius large enough to find all the galaxies that have HST data, but small enough to not give you HSC objects that are not part of the galaxy. One approach is to start with a large search radius (say 20\") and then try smaller ones until you start loosing cases you would like to keep. Note that a more typical search radius (e.g., for matching stellar fields) is ~0.2\", which is roughly the accuracy of the absolute astrometry for the HSC.\n",
    "\n",
    "Return to <span style=\"color:red;\">Step 3</span>."
   ]
  },
  {
   "cell_type": "markdown",
   "id": "131467ce-6601-48ae-8913-a70d2200f808",
   "metadata": {},
   "source": [
    "## Get list of HLA images for SN2005cs from `astroquery.mast`\n",
    "\n",
    "Use the position of the HSC object with the largest `NumImages` for the search."
   ]
  },
  {
   "cell_type": "code",
   "execution_count": null,
   "id": "84eaedd3",
   "metadata": {},
   "outputs": [],
   "source": [
    "mra = target_2005cs.ra[0]\n",
    "mdec = target_2005cs.dec[0]\n",
    "c = SkyCoord(mra, mdec, unit='deg')\n",
    "obstab = Observations.query_criteria(coordinates=c, obs_collection='HLA', radius=0.0)\n",
    "print(f\"Found {len(obstab)} HLA observations\")\n",
    "obstab[obstab.colnames[:5]]"
   ]
  },
  {
   "cell_type": "code",
   "execution_count": null,
   "id": "37474bcf",
   "metadata": {},
   "outputs": [],
   "source": [
    "# select observations for an example image\n",
    "otab = obstab[np.char.startswith(np.char.lower(obstab['obs_id']),'hst_10498_01_acs_hrc')\n",
    "              & (np.char.lower(obstab['filters'])!='detection')]\n",
    "print(f\"Found {len(otab)} observations for visit hst_10498_01_acs_hrc\")\n",
    "# sort from red to blue\n",
    "otab = otab[np.argsort(0.5*(otab['em_min']+otab['em_max']))[::-1]]\n",
    "otab['obs_id', 'em_min', 'em_max', 'filters']"
   ]
  },
  {
   "cell_type": "code",
   "execution_count": null,
   "id": "98d69bea",
   "metadata": {},
   "outputs": [],
   "source": [
    "im = get_hla_cutout(otab['obs_id'][0], mra, mdec, size=256, autoscale=99.0,\n",
    "                   instrument=otab['instrument_name'][0])"
   ]
  },
  {
   "cell_type": "code",
   "execution_count": null,
   "id": "69c94663",
   "metadata": {},
   "outputs": [],
   "source": [
    "plt.imshow(im, origin=\"upper\", cmap=\"gray\")"
   ]
  },
  {
   "cell_type": "markdown",
   "id": "1236e0f9-2feb-431a-a5d9-6c8e370d2f98",
   "metadata": {},
   "source": [
    "## Display a range of cutout images\n",
    "\n",
    "This is chosen to approximately match the use case displayed images."
   ]
  },
  {
   "cell_type": "code",
   "execution_count": null,
   "id": "42a518c6",
   "metadata": {},
   "outputs": [],
   "source": [
    "otab = obstab[(np.char.lower(obstab['filters']) != 'detection')]\n",
    "otab.sort('obs_id')\n",
    "print(f\"Found {len(otab)} observations skipping 'detection' filter\")\n",
    "\n",
    "# get index of the HRC observation\n",
    "hindex = np.where(np.char.startswith(np.char.lower(otab['obs_id']),\n",
    "                                     'hst_10498_01_acs_hrc_f555w'))[0][0]\n",
    "print(f\"Select index {hindex}\")\n",
    "# show a range around the selected image\n",
    "otab['obs_id', 'instrument_name', 'filters'][hindex-4:hindex+5]"
   ]
  },
  {
   "cell_type": "code",
   "execution_count": null,
   "id": "b833bfa3",
   "metadata": {},
   "outputs": [],
   "source": [
    "plt.figure(1, (20, 20))\n",
    "for i, j in enumerate(range(hindex-4, hindex+5), start=1):\n",
    "    plt.subplot(3, 3, i)\n",
    "    obs_id = otab['obs_id'][j]\n",
    "    im = get_hla_cutout(obs_id, mra, mdec, size=256, autoscale=99.0,\n",
    "                       instrument=otab['instrument_name'][j])\n",
    "    print(f\"Got image {j} {obs_id}\")\n",
    "    plt.imshow(im, origin=\"upper\", cmap=\"gray\")\n",
    "    plt.title(obs_id)"
   ]
  }
 ],
 "metadata": {
  "kernelspec": {
   "display_name": "stsci",
   "language": "python",
   "name": "stsci"
  },
  "language_info": {
   "codemirror_mode": {
    "name": "ipython",
    "version": 3
   },
   "file_extension": ".py",
   "mimetype": "text/x-python",
   "name": "python",
   "nbconvert_exporter": "python",
   "pygments_lexer": "ipython3",
   "version": "3.10.4"
  }
 },
 "nbformat": 4,
 "nbformat_minor": 5
}
