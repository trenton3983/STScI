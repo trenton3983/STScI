{
 "cells": [
  {
   "cell_type": "markdown",
   "id": "2c2ed352-016e-43b1-a39f-9f61ef7d70d4",
   "metadata": {
    "tags": []
   },
   "source": [
    "# A Hubble Source Catalog (HSC) Use Case\n",
    "\n",
    "- [Example 6][1]: Using the Discovery Portal to study the Red Sequence in a Galaxy Cluster\n",
    "  - (The Red Sequence in the Galaxy Cluster Abell 2390)\n",
    "\n",
    "\n",
    "  [1]: https://archive.stsci.edu/hst/hsc/help/use_case_6_v1.html"
   ]
  },
  {
   "cell_type": "markdown",
   "id": "41443c95-4d2c-4d34-b51d-388f82900c72",
   "metadata": {},
   "source": [
    "<span style=\"color:red;\">GOAL</span>: This tutorial shows you how to use the [MAST Discovery Portal][1] to create a Color-Magnitude diagram of extended sources.\n",
    "\n",
    "<span style=\"color:red;\">SCIENCE CASE</span>: The science case is to isolate the red sequence - a color-magnitude relation for elliptical and lenticular galaxies in clusters of galaxies - in a cluster well observed by HST (i.e. Abell 2390 at z=0.2; see [Gladders and Yee 2000, AJ, 120, 2148][2]). Aperture corrections and extinction corrections are also performed.\n",
    "Other potential use cases could include testing cluster evolution via the change in the slope of the red sequence, and identifying other clusters with pronounced red sequences.\n",
    "\n",
    "\n",
    "  [1]: http://mast.stsci.edu/portal/Mashup/Clients/Mast/Portal.html\n",
    "  [2]: https://ui.adsabs.harvard.edu/abs/2000AJ....120.2148G/abstract"
   ]
  },
  {
   "cell_type": "code",
   "execution_count": null,
   "id": "96e45e17-1d43-46ad-b04a-4700dc54765d",
   "metadata": {},
   "outputs": [],
   "source": [
    "import astropy\n",
    "from astropy.coordinates import SkyCoord\n",
    "import time\n",
    "import sys\n",
    "import os\n",
    "import requests\n",
    "import json\n",
    "import numpy as np\n",
    "import matplotlib.pyplot as plt\n",
    "import seaborn as sns\n",
    "import pandas as pd\n",
    "\n",
    "from scipy.stats import linregress\n",
    "from sklearn.linear_model import LinearRegression\n",
    "\n",
    "from PIL import Image\n",
    "from io import BytesIO\n",
    "\n",
    "from astropy.table import Table, join\n",
    "from astropy.io import ascii\n",
    "\n",
    "# set width for pprint\n",
    "astropy.conf.max_width = 150"
   ]
  },
  {
   "cell_type": "code",
   "execution_count": null,
   "id": "325cf4a3-30b0-441c-83ce-a234eb3ea5ea",
   "metadata": {},
   "outputs": [],
   "source": [
    "# import hsc catalog search utilites from local py file\n",
    "from search_utils import *"
   ]
  },
  {
   "cell_type": "code",
   "execution_count": null,
   "id": "68bf7083-1272-4a15-a872-20a13554471f",
   "metadata": {},
   "outputs": [],
   "source": [
    "pd.set_option('display.max_columns', 700)\n",
    "pd.set_option('display.max_rows', 400)\n",
    "pd.set_option('display.min_rows', 10)\n",
    "pd.set_option('display.expand_frame_repr', True)"
   ]
  },
  {
   "cell_type": "markdown",
   "id": "434ed0d8-3b68-4826-9dfb-6561a470d9f3",
   "metadata": {
    "tags": []
   },
   "source": [
    "## <span style=\"color:red;\">Step 1</span> - Go to the [MAST Discovery Portal][1].\n",
    "\n",
    "Use the pull down menu under Select Collection to choose the HSC (<span style=\"color:blue;\">blue</span>). Enter the name of the cluster (or if you prefer the coordinates) and search radius (i.e. Abell 2390 r=0.2d) in the Search box (<span style=\"color:green;\">green</span>). Perform the search by just hitting a carriage return. The results are displayed in the List of Objects, while the AstroView window shows the objects against the DSS image. The left column is a series of Filters that can be used to refine the data selected.\n",
    "\n",
    "![redesequence_1][2]\n",
    "\n",
    "\n",
    "  [1]: http://mast.stsci.edu/portal/Mashup/Clients/Mast/Portal.html\n",
    "  [2]: screenshots/redsequence_1.png"
   ]
  },
  {
   "cell_type": "markdown",
   "id": "bc8c5e70-17f2-4c2c-8d63-643902015d64",
   "metadata": {},
   "source": [
    "### Use SkyCoord name resolver to get the position of Adell 2390"
   ]
  },
  {
   "cell_type": "code",
   "execution_count": null,
   "id": "1c3ca272-e3e2-4004-a650-32a36b822522",
   "metadata": {},
   "outputs": [],
   "source": [
    "target = 'Abell 2390'\n",
    "coord_adell2390 = SkyCoord.from_name(target)\n",
    "\n",
    "ra_adell2390 = coord_adell2390.ra.degree\n",
    "dec_adell2390 = coord_adell2390.dec.degree\n",
    "print(f'ra: {ra_adell2390}\\ndec: {dec_adell2390}')"
   ]
  },
  {
   "cell_type": "markdown",
   "id": "78b73cb9-8686-45a1-950d-3e9cff08c0ac",
   "metadata": {},
   "source": [
    "### Cone search with HSC API"
   ]
  },
  {
   "cell_type": "code",
   "execution_count": null,
   "id": "e4d2db9b-613a-423b-81c5-a0a133221b71",
   "metadata": {},
   "outputs": [],
   "source": [
    "radius = 0.2 # degrees\n",
    "cone = hcvcone(ra_adell2390, dec_adell2390, radius, table=\"summary\")\n",
    "tab = ascii.read(cone)\n",
    "df = tab.to_pandas()\n",
    "df.head()"
   ]
  },
  {
   "cell_type": "code",
   "execution_count": null,
   "id": "ba007561-269e-4cd3-ac7b-f042c416e95b",
   "metadata": {},
   "outputs": [],
   "source": [
    "# number of observations\n",
    "len(df)"
   ]
  },
  {
   "cell_type": "code",
   "execution_count": null,
   "id": "4d819fd5-7152-4e80-ade7-4a24aed7d2c9",
   "metadata": {},
   "outputs": [],
   "source": [
    "g = sns.relplot(data=df, x='MatchRA', y='MatchDec', color='purple', height=10, \n",
    "                hue='TargetName', hue_order=sorted(df.TargetName.unique()), alpha=.5)\n",
    "for ax in g.axes.ravel():\n",
    "    ax.invert_xaxis()"
   ]
  },
  {
   "cell_type": "markdown",
   "id": "edf4d651-b5a0-49ed-aca5-6f707654da99",
   "metadata": {},
   "source": [
    "## <span style=\"color:red;\">Step 2</span> - Refine the sample.\n",
    "\n",
    "The HSC includes both compact (point) and extended sources, as well as a few residual cosmic rays and image artifacts. Since we are looking for galaxies (i.e. extended sources), we want to remove as many point sources as possible. Scroll down the Filters section (<span style=\"color:blue;\">blue</span>) to the CI (Concentration Index) area and set the lower limit to be 1.3 by either moving the slider or typing in the value (<span style=\"color:green;\">green</span>). Note that about 1/3 of the objects have been rejected (<span style=\"color:orange;\">orange</span>).\n",
    "\n",
    "![redsequence_2][1]\n",
    "\n",
    "\n",
    "  [1]: screenshots/redsequence_2.png"
   ]
  },
  {
   "cell_type": "markdown",
   "id": "6038df81-5f6f-4636-98eb-82221e4adab6",
   "metadata": {},
   "source": [
    "### Label and filter the DataFrame by `'CI'`\n",
    "\n",
    "- Point sources such as stars have CI ~ 1 (**compact**), and objects with CI significantly greater than 1 are bigger than point sources, meaning they are likely to be galaxies (**extended**)."
   ]
  },
  {
   "cell_type": "code",
   "execution_count": null,
   "id": "eefe50e9-5153-4a6a-8c19-a0d0724969bd",
   "metadata": {},
   "outputs": [],
   "source": [
    "df['label'] = np.where(df.CI.gt(1.3), 'extended', 'compact')"
   ]
  },
  {
   "cell_type": "code",
   "execution_count": null,
   "id": "7d65f5cf-217b-482d-97a1-01810ad6fa2c",
   "metadata": {},
   "outputs": [],
   "source": [
    "df.head()"
   ]
  },
  {
   "cell_type": "code",
   "execution_count": null,
   "id": "6710e2b5-ad10-4ef3-90d9-fb5ea1df186b",
   "metadata": {},
   "outputs": [],
   "source": [
    "dfe = df[df.label.eq('extended')]"
   ]
  },
  {
   "cell_type": "code",
   "execution_count": null,
   "id": "809d55ff-f4d3-40e5-b128-8fbf2a71536d",
   "metadata": {},
   "outputs": [],
   "source": [
    "len(dfe)"
   ]
  },
  {
   "cell_type": "code",
   "execution_count": null,
   "id": "ce6c752d-137b-4172-906e-1da813a4f232",
   "metadata": {},
   "outputs": [],
   "source": [
    "g = sns.relplot(data=dfe, x='MatchRA', y='MatchDec', height=10, hue='TargetName',\n",
    "                hue_order=sorted(df.TargetName.unique()), alpha=.5)\n",
    "for ax in g.axes.ravel():\n",
    "    ax.invert_xaxis()"
   ]
  },
  {
   "cell_type": "markdown",
   "id": "b5ba400c-0931-43aa-9890-5b9c11103e0e",
   "metadata": {},
   "source": [
    "## <span style=\"color:red;\">Step 3</span> - Determine the HSC magnitudes corrections.\n",
    "\n",
    "To make our Color-Magnitude diagram, we need to correct the magnitude values for the V (W2_F555W = WFPC2 F555W) and I (W2_F814W = WFPC2 F814W) to infinite aperture magnitudes for better comparison, and correct for Galactic extinction along the line of sight.\n",
    "\n",
    "Approximate aperture corrections can be taken from the [aperture corrections table][1], or estimated from the encircled energy curves provided by the instrument teams. For both filters, the aperture corrections are 0.17 mag, or:\n",
    "\n",
    "W2_F555W_Inf = W2_F555W - 0.17\n",
    "W2_F814W_Inf = W2_F814W - 0.17.\n",
    "\n",
    "Extinction correction is best estimated using an absorption calculator, like [Doug's Excellent Absorption Law Calculator][2]. The HSC table includes a column labeled Extinction, which is the Schlegel, Finkbeiner, & Davis 1998 ([ApJ, 500, 525, 1998][3]) E(B-V)=0.114 map value at that position. Using the absorption law calculator, with R_V = 3.1, and A_V = E(B-V) x R_V = 0.353, and assuming target wavelength equal to the pivot wavelength for each filter, or:\n",
    "\n",
    "W_V = 0.535 (um)\n",
    "W_I = 0.820 (um).\n",
    "\n",
    "We get the following extinction corrections for each filter:\n",
    "\n",
    "W2_F555W_Ext = W2_F555W - 0.36\n",
    "W2_F814W_Ext = W2_F814W - 0.20,\n",
    "\n",
    "and arrive at the final corrections for each filter:\n",
    "\n",
    "W2_F555W_Cor = W2_F555W - 0.53\n",
    "W2_F814W_Cor = W2_F814W - 0.37.\n",
    "\n",
    "\n",
    "  [1]: https://archive.stsci.edu/hst/hsc/help/FAQ/aperture_corrections.txt\n",
    "  [2]: http://dogwood.physics.mcmaster.ca/Acurve.html\n",
    "  [3]: http://adsabs.harvard.edu/abs/1998ApJ...500..525S"
   ]
  },
  {
   "cell_type": "markdown",
   "id": "a5c623b8-d171-4d04-9e6d-2d1ab480011e",
   "metadata": {},
   "source": [
    "## <span style=\"color:red;\">Step 4</span> - Create new Magnitude and Color columns\n",
    "\n",
    "To correct the magnitudes, we will create new columns and apply the corrections determined above. Click on the ![icon][1] icon (<span style=\"color:blue;\">blue</span>). In the popup, select the first value to be \"W2_F555W\", the operation to be \"x+c\", and the constant to be \"-0.53\"; enter the name as VC (V corrected).\n",
    "\n",
    "![redsequence_3][2]\n",
    "\n",
    "Do the same thing to make the corrected W2_F814W (I) magnitude. Finally, we need to create the VC-IC color by selecting \"VC\", \"-\", \"IC\", and \"VC-IC\".\n",
    "\n",
    "\n",
    "  [1]: screenshots/new_column.png\n",
    "  [2]: screenshots/redsequence_3.png"
   ]
  },
  {
   "cell_type": "code",
   "execution_count": null,
   "id": "ad7edbc1-6f71-41f0-b2f3-4aed50cfa024",
   "metadata": {},
   "outputs": [],
   "source": [
    "df['VC'] = df['W2_F555W'].sub(0.53)\n",
    "df['IC'] = df['W2_F814W'].sub(0.37)\n",
    "\n",
    "df['VC-IC'] = df['VC'].sub(df['IC'])\n",
    "\n",
    "df[['VC', 'IC', 'VC-IC']].tail()"
   ]
  },
  {
   "cell_type": "code",
   "execution_count": null,
   "id": "16831854-87c3-4634-9eaf-066f3ef0875a",
   "metadata": {},
   "outputs": [],
   "source": [
    "# drop nan rows\n",
    "df = df.dropna(subset=['VC', 'IC', 'VC-IC'])\n",
    "\n",
    "display(df.head())\n",
    "len(df)"
   ]
  },
  {
   "cell_type": "markdown",
   "id": "d25ae5fa-3ef9-4aac-805c-25a24ecb84fa",
   "metadata": {},
   "source": [
    "## <span style=\"color:red;\">Step 5</span> - Make the Color-Magnitude Diagram\n",
    "\n",
    "Select the ![chart][1] icon (<span style=\"color:blue;\">blue</span>). Set X = IC and Y = VC-IC (<span style=\"color:green;\">green</span>). Click on the Update Series button (<span style=\"color:orange;\">orange</span>) to plot the diagram.\n",
    "\n",
    "![redsequence_4][2]\n",
    "\n",
    "There is clear sequence of sources near the middle of the diagram running with a negative slope. A linear regression fit feature may be added in future Discovery Portal versions, but for now one can estimate the slope of the sequence from the grid, or by moving the cursor within the plot, and find it consistent with m=-0.04. This is the slope of the red sequence expected from clusters in the z=0.2 range, as shown in Gladders & Yee 2000, Figure 2.\n",
    "\n",
    "A more exact value of the slope could be obtained by downloading the table using the ![export][3] icon, and employing whatever program you use to perform linear regression fits (e.g., using Python and 3-sigma clipping, we get a value of -0.042 +/- 0.007, which is in good agreement with the value of -0.037 +/- 0.0042 from [Gladders et. al. 1998, ApJ, 501, 571][4]).\n",
    "\n",
    "The HSC figure is shifted slightly relative to the Gladders et al. plot since the HSC uses ABMAG and Gladders uses STMAG magnitudes. The conversion equations are\n",
    "\n",
    "W2_F555W(STmag) = W2_F555W(AB) - 0.108\n",
    "W2_F814W(STmag) = W2_F814W(AB) + 0.824.\n",
    "\n",
    "obtainable using stsdas.synphot, see also the [WFPC2 Photometry FAQ][5].\n",
    "\n",
    "![redsequence_5][6]\n",
    "\n",
    "\n",
    "  [1]: screenshots/chart.png\n",
    "  [2]: screenshots/redsequence_4.png\n",
    "  [3]: screenshots/export.png\n",
    "  [4]: http://adsabs.harvard.edu/abs/1998ApJ...501..571G\n",
    "  [5]: http://www.stsci.edu/hst/wfpc2/wfpc2_faq/wfpc2_phot_faq.html\n",
    "  [6]: screenshots/redsequence_5.png"
   ]
  },
  {
   "cell_type": "code",
   "execution_count": null,
   "id": "2fd2da27-fcb3-4f2c-ac2f-50b13fa520e1",
   "metadata": {},
   "outputs": [],
   "source": [
    "g = sns.relplot(data=df, x='IC', y='VC-IC', height=10, hue='label')"
   ]
  },
  {
   "cell_type": "markdown",
   "id": "33b488a7-0a9f-4046-a694-b4ea95cab99d",
   "metadata": {},
   "source": [
    "### Regression Line"
   ]
  },
  {
   "cell_type": "markdown",
   "id": "1a034b33-cc88-432e-9d1c-6d7535cca6a5",
   "metadata": {},
   "source": [
    "#### `sklearn` regression line"
   ]
  },
  {
   "cell_type": "code",
   "execution_count": null,
   "id": "31f24a9a-d33b-425a-8b7d-cc7b0f01cefc",
   "metadata": {},
   "outputs": [],
   "source": [
    "model = LinearRegression()"
   ]
  },
  {
   "cell_type": "code",
   "execution_count": null,
   "id": "55a5bdb6-9c1a-48dd-bf60-ad184aba1f78",
   "metadata": {},
   "outputs": [],
   "source": [
    "# selecte only the extended data\n",
    "data = df[df.label.eq('extended')]"
   ]
  },
  {
   "cell_type": "code",
   "execution_count": null,
   "id": "df44ed15-22f5-416c-a53f-f97ca38287b7",
   "metadata": {},
   "outputs": [],
   "source": [
    "_ = model.fit(data['IC'].values.reshape((-1, 1)), data['VC-IC'].values)"
   ]
  },
  {
   "cell_type": "code",
   "execution_count": null,
   "id": "44623da2-0ca2-4869-a35f-4c64fc9e84ee",
   "metadata": {},
   "outputs": [],
   "source": [
    "model.intercept_"
   ]
  },
  {
   "cell_type": "code",
   "execution_count": null,
   "id": "43cb302b-dde4-451a-8aa3-00fd898a5ce1",
   "metadata": {},
   "outputs": [],
   "source": [
    "model.coef_"
   ]
  },
  {
   "cell_type": "code",
   "execution_count": null,
   "id": "308e7f8e-84e4-4458-9fa2-746a28816a89",
   "metadata": {},
   "outputs": [],
   "source": [
    "x = np.linspace(18, 25, 1000)"
   ]
  },
  {
   "cell_type": "code",
   "execution_count": null,
   "id": "7706bca4-a30e-4e23-b29c-8a842aaf238d",
   "metadata": {},
   "outputs": [],
   "source": [
    "y = model.predict(x.reshape((-1, 1)))"
   ]
  },
  {
   "cell_type": "code",
   "execution_count": null,
   "id": "75bde434-6608-425f-8c0e-f060df3fbe68",
   "metadata": {},
   "outputs": [],
   "source": [
    "fig, ax = plt.subplots(figsize=(10, 10))\n",
    "sns.scatterplot(data=df, x='IC', y='VC-IC', hue='label')\n",
    "sns.lineplot(x=x, y=y, color='tab:orange', ax=ax, label='extended regression line')\n",
    "\n",
    "sns.move_legend(ax, bbox_to_anchor=(1, 0.5), loc='center left', title='label', frameon=False)\n",
    "ax.spines[['top', 'right']].set_visible(False)"
   ]
  },
  {
   "cell_type": "markdown",
   "id": "1bdec3b1-db68-4b7a-b6ec-aa230be1d138",
   "metadata": {},
   "source": [
    "#### `scipy` regression line"
   ]
  },
  {
   "cell_type": "code",
   "execution_count": null,
   "id": "b28813c8-cd9b-455b-9145-d6848719365e",
   "metadata": {},
   "outputs": [],
   "source": [
    "# calculate regression line with scipy\n",
    "linregress(data['IC'].values, data['VC-IC'].values)"
   ]
  },
  {
   "cell_type": "markdown",
   "id": "e07e52e3-cdee-4d0c-a25f-f8b775112f16",
   "metadata": {},
   "source": [
    "#### seaborn regression plot"
   ]
  },
  {
   "cell_type": "code",
   "execution_count": null,
   "id": "b69a1cdf-4642-46b9-9e43-7f180d04152e",
   "metadata": {},
   "outputs": [],
   "source": [
    "# plot the regression line directly with lmplot\n",
    "g = sns.lmplot(data=data, x='IC', y='VC-IC', height=10, hue='label', palette=sns.color_palette(\"tab10\")[1:])"
   ]
  },
  {
   "cell_type": "code",
   "execution_count": null,
   "id": "55850c3a-eff7-44b0-bb71-d7f689afa7ca",
   "metadata": {},
   "outputs": [],
   "source": [
    "# plot regression line for extended and add compact points\n",
    "fig, ax = plt.subplots(figsize=(12, 10))\n",
    "sns.regplot(data=data, x='IC', y='VC-IC', color='tab:orange', scatter_kws=dict(s=15), ax=ax, label='extended')\n",
    "sns.scatterplot(data=df[df.label.eq('compact')], x='IC', y='VC-IC', color='tab:blue', ax=ax, label='compact')\n",
    "\n",
    "sns.move_legend(ax, bbox_to_anchor=(1, 0.5), loc='center left', title='label', frameon=False)\n",
    "ax.spines[['top', 'right']].set_visible(False)"
   ]
  }
 ],
 "metadata": {
  "kernelspec": {
   "display_name": "stsci",
   "language": "python",
   "name": "stsci"
  },
  "language_info": {
   "codemirror_mode": {
    "name": "ipython",
    "version": 3
   },
   "file_extension": ".py",
   "mimetype": "text/x-python",
   "name": "python",
   "nbconvert_exporter": "python",
   "pygments_lexer": "ipython3",
   "version": "3.10.4"
  }
 },
 "nbformat": 4,
 "nbformat_minor": 5
}
