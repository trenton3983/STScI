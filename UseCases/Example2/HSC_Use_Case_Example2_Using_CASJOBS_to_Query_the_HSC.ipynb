{
 "cells": [
  {
   "cell_type": "markdown",
   "id": "1f59f4cb-32e2-47d9-9fb2-a9fcba968de2",
   "metadata": {},
   "source": [
    "# A Hubble Source Catalog (HSC) Use Case\n",
    "\n",
    "- [Example #2: Using CASJOBS to Query the HSC][1]\n",
    "  - (Globular Clusters in M87 and a Color Magnitude Diagram for the SMC)\n",
    "  \n",
    "![m87_2plot][2]\n",
    "\n",
    "\n",
    "  [1]: https://archive.stsci.edu/hst/hsc/help/use_case_2_v3.html\n",
    "  [2]: screenshots/m87_2plot.png"
   ]
  },
  {
   "cell_type": "markdown",
   "id": "f2512087-70a8-4f74-89cf-6ba8ec6b134a",
   "metadata": {
    "tags": []
   },
   "source": [
    "CasJobs is an online tool used to query large databases. Originally created for the [SDSS][1] catalog, it has now been adapted for selected [MAST][2] archival datasets - namely GALEX, Kepler and the HSC. While the [MAST Discovery Portal][3] is the primary tool for using the HSC, CasJobs provides a powerful tool for looking at larger datasets and making more detailed queries. The [HSC Homepage][4] is also available for some specific queries.\n",
    "\n",
    "<span style=\"color:red;\">GOAL</span>: This tutorial provides a first look at how to use CasJobs to query the Hubble Source Catalog. For a more detailed tutorial on the syntax behind the queries the [SDSS SQL Tutorial][5] is recommended.\n",
    "\n",
    "<span style=\"color:red;\">SCIENCE CASE</span>: The science cases are studies of: 1. slightly extended objects (i.e., globular clusters in M87) and 2. large datasets (i.e., a Color Magntiude Diagram for the SMC).\n",
    "\n",
    "\n",
    "  [1]: http://www.sdss.org/\n",
    "  [2]: http://archive.stsci.edu/\n",
    "  [3]: http://mast.stsci.edu/portal/Mashup/Clients/Mast/Portal.html\n",
    "  [4]: https://archive.stsci.edu/hst/hsc/\n",
    "  [5]: http://cas.sdss.org/dr7/en/help/howto/search/"
   ]
  },
  {
   "cell_type": "code",
   "execution_count": null,
   "id": "a4b9dc54-295c-481e-8747-503282ec19dc",
   "metadata": {},
   "outputs": [],
   "source": [
    "import time\n",
    "import sys\n",
    "import os\n",
    "import requests\n",
    "import json\n",
    "import numpy as np\n",
    "import matplotlib.pyplot as plt\n",
    "import seaborn as sns\n",
    "import pandas as pd\n",
    "\n",
    "from scipy.stats import linregress\n",
    "from sklearn.linear_model import LinearRegression\n",
    "\n",
    "from PIL import Image\n",
    "from io import BytesIO\n",
    "\n",
    "from astroquery.mast import Observations\n",
    "import astropy\n",
    "from astropy.coordinates import SkyCoord\n",
    "from astropy.table import Table, join\n",
    "from astropy.io import ascii\n",
    "\n",
    "# check that version of mastcasjobs is new enough\n",
    "# we are using some features not in version 0.0.1\n",
    "from pkg_resources import get_distribution\n",
    "from packaging.version import Version as V\n",
    "\n",
    "assert V(get_distribution(\"mastcasjobs\").version) >= V('0.0.2'), \"\"\"\n",
    "A newer version of mastcasjobs is required.\n",
    "Update mastcasjobs to current version using this command:\n",
    "pip install --upgrade git+git://github.com/rlwastro/mastcasjobs@master\n",
    "\"\"\"\n",
    "\n",
    "import mastcasjobs\n",
    "\n",
    "# set width for pprint\n",
    "astropy.conf.max_width = 150\n",
    "\n",
    "import warnings\n",
    "warnings.filterwarnings('ignore')"
   ]
  },
  {
   "cell_type": "code",
   "execution_count": null,
   "id": "aa70d205-0371-4a20-8724-188bafb1ccdf",
   "metadata": {},
   "outputs": [],
   "source": [
    "# import image search utilites from local py file\n",
    "from image_utils import *"
   ]
  },
  {
   "cell_type": "code",
   "execution_count": null,
   "id": "b56a7538-b521-452c-a8a9-25e06d2ad0d5",
   "metadata": {},
   "outputs": [],
   "source": [
    "pd.set_option('display.max_columns', 700)\n",
    "pd.set_option('display.max_rows', 400)\n",
    "pd.set_option('display.min_rows', 10)\n",
    "pd.set_option('display.expand_frame_repr', True)"
   ]
  },
  {
   "cell_type": "code",
   "execution_count": null,
   "id": "d203bc9d-4f0c-45f2-bdb0-92a3d8c5c3bc",
   "metadata": {},
   "outputs": [],
   "source": [
    "HSCContext = \"HSCv3\""
   ]
  },
  {
   "cell_type": "markdown",
   "id": "0df58a20-6027-4721-86be-a4a9a3f43208",
   "metadata": {
    "tags": []
   },
   "source": [
    "Set up Casjobs environment."
   ]
  },
  {
   "cell_type": "code",
   "execution_count": null,
   "id": "0afec2d1-68cf-4dde-b38f-b75c0f40e0a2",
   "metadata": {},
   "outputs": [],
   "source": [
    "import getpass\n",
    "if not os.environ.get('CASJOBS_USERID'):\n",
    "    os.environ['CASJOBS_USERID'] = input('Enter Casjobs UserID:')\n",
    "if not os.environ.get('CASJOBS_PW'):\n",
    "    os.environ['CASJOBS_PW'] = getpass.getpass('Enter Casjobs password:')"
   ]
  },
  {
   "cell_type": "markdown",
   "id": "9c90bbbb-a6a2-4489-aa4e-ca8e743c870d",
   "metadata": {},
   "source": [
    "## <span style=\"color:red;\">Step 1</span> - HSC Casjobs\n",
    "\n",
    "Enter the [HSC Casjobs webpage][1] and create an account using the button in the top menu bar (<span style=\"color:blue;\">blue</span>). Go ahead and login (<span style=\"color:green;\">green</span>).\n",
    "\n",
    "![welcome][2]\n",
    "\n",
    "\n",
    "  [1]: https://mastweb.stsci.edu/hcasjobs/\n",
    "  [2]: screenshots/hsc_welcome.png"
   ]
  },
  {
   "cell_type": "markdown",
   "id": "008a11f4-672c-4539-817a-44c1c15be65f",
   "metadata": {},
   "source": [
    "## <span style=\"color:red;\">Step 2</span> - Inspect the HSC databases and functions.\n",
    "\n",
    "Click *MyDB* in the top menu bar (<span style=\"color:blue;\">blue</span>). This displays all the tables and functions you create in \"MyDB\" (My Database). Now change the \"context\" (the database used to run your query) from MyDB to HSCv3 (i.e., Hubble Source Catalog Version 3) (<span style=\"color:green;\">green</span>), using the dropdown menu on the top left. This shows the available views, tables, functions and procedures related to the HSC database.\n",
    "\n",
    "For example, click *Tables* (<span style=\"color:green;\">green</span>), and then select *SumMagAper2Cat* (i.e., the HSC Summary Form using magaper2 magnitudes) (<span style=\"color:orange;\">orange</span>). Scroll across to see the fields located in this table, such as Match ID (<span style=\"color:yellow;\">yellow</span>), the instrument and filter used (i.e., W2_F122M is the magaper2 magnitude using the Wide Field Planetary Camera 2 image and the F122M filter) (<span style=\"color:yellow;\">yellow</span>). A description of the table and some of the columns are provided. You might want to examine the Function *SearchSumCatalog* also, since you will be using it in a minute.\n",
    "\n",
    "![hsc_tables][1]\n",
    "\n",
    "\n",
    " [1]: screenshots/hsc_tables.png"
   ]
  },
  {
   "cell_type": "markdown",
   "id": "8f128744-5c15-4db1-b43b-a53c5ee36e5f",
   "metadata": {},
   "source": [
    "### sample code to update"
   ]
  },
  {
   "cell_type": "code",
   "execution_count": null,
   "id": "d7385898-4f6f-4cab-ade9-48e9639e96d6",
   "metadata": {},
   "outputs": [],
   "source": [
    "target = 'M87'\n",
    "coord_m87 = SkyCoord.from_name(target)\n",
    "\n",
    "ra_m87 = coord_m87.ra.degree\n",
    "dec_m87 = coord_m87.dec.degree\n",
    "radius = 500 # arcsec\n",
    "\n",
    "print(f'ra: {ra_m87}\\ndec: {dec_m87}')"
   ]
  },
  {
   "cell_type": "code",
   "execution_count": null,
   "id": "65cad4ff",
   "metadata": {},
   "outputs": [],
   "source": [
    "HSCContext = \"HSCv3\"\n",
    "jobs = mastcasjobs.MastCasJobs(context=\"MyDB\")"
   ]
  },
  {
   "cell_type": "markdown",
   "id": "f0b173a3-47b1-4bd2-bce6-91ac064062af",
   "metadata": {},
   "source": [
    "## Get histogram of number of images for each source in the region"
   ]
  },
  {
   "cell_type": "code",
   "execution_count": null,
   "id": "2658e071-cdda-40b8-8994-55ab49788504",
   "metadata": {},
   "outputs": [],
   "source": [
    "query = f\"\"\"\n",
    "SELECT numimages, count(*) as n\n",
    "FROM SearchSumCatalog({ra_m87}, {dec_m87}, {radius}, 1)\n",
    "WHERE W2_F606W is not null and W2_F814W is not null\n",
    "GROUP BY numimages\n",
    "\"\"\"\n",
    "\n",
    "htab = jobs.quick(query, task_name=\"HCV demo\", context=HSCContext)\n",
    "htab"
   ]
  },
  {
   "cell_type": "markdown",
   "id": "18edd1b6-6232-4853-9236-787c8f6314cc",
   "metadata": {},
   "source": [
    "## Plot the histogram"
   ]
  },
  {
   "cell_type": "code",
   "execution_count": null,
   "id": "a27ad08b-e34e-4989-9e10-09752c2accc5",
   "metadata": {},
   "outputs": [],
   "source": [
    "g = sns.relplot(kind='line', data=htab.to_pandas(), x='numimages', y='n', drawstyle='steps-mid', aspect=1.5)"
   ]
  },
  {
   "cell_type": "markdown",
   "id": "2224ff37-d1d1-4246-a0a3-21fb3ab45efa",
   "metadata": {
    "tags": []
   },
   "source": [
    "## Get list of sources\n",
    "\n",
    "Set `numimages` threshold high enough to weed out artifacts.\n",
    "\n",
    "Note we are retrieving the table directly from the `quick` Casjobs query.  A bigger table could be written to a `MyDB` table in the user area and then retrieved using `jobs.fast_table(tablename)`."
   ]
  },
  {
   "cell_type": "code",
   "execution_count": null,
   "id": "87cd1518-5f54-4d38-a288-3ab26bb1b209",
   "metadata": {},
   "outputs": [],
   "source": [
    "numimages = 50\n",
    "\n",
    "query = f\"\"\"\n",
    "SELECT\n",
    "      MatchRA, MatchDEC, MatchID, CI, W2_F606W, W2_F814W, V_I=W2_F606W - W2_F814W\n",
    "FROM \n",
    "      SearchSumCatalog({ra_m87}, {dec_m87}, {radius}, 1)\n",
    "WHERE CI > 1.05 and CI < 1.5\n",
    "      and (W2_F606W - W2_F814W) > 0.0 and (W2_F606W - W2_F814W) < 1.0\n",
    "      and numimages > {numimages}\n",
    "ORDER BY matchID \n",
    "\"\"\"\n",
    "\n",
    "t0 = time.time()\n",
    "tab = jobs.quick(query, task_name=\"HCV demo\", context=HSCContext)\n",
    "\n",
    "print(f\"Completed in {(time.time()-t0):.1f} sec ({len(tab)} rows)\")\n",
    "\n",
    "# clean up the output format\n",
    "tab['W2_F606W'].format = \"{:.3f}\"\n",
    "tab['W2_F814W'].format = \"{:.3f}\"\n",
    "tab['V_I'].format = \"{:.3f}\"\n",
    "tab['CI'].format = \"{:.3f}\"\n",
    "tab['MatchRA'].format = \"{:.6f}\"\n",
    "tab['MatchDEC'].format = \"{:.6f}\"\n",
    "\n",
    "#tab = tab.to_pandas()\n",
    "#tab.head()\n",
    "tab[:10]"
   ]
  },
  {
   "cell_type": "markdown",
   "id": "2c2af183-270f-4243-9aca-efef173b35b8",
   "metadata": {},
   "source": [
    "## <span style=\"color:red;\">Step 3</span> - Query the database\n",
    "\n",
    "The query below is designed to find globular clusters in the galaxy M87.\n",
    "\n",
    "```sql\n",
    "SELECT\n",
    "      MatchRA, MatchDEC, MatchID, CI, W2_F606W, W2_F814W, V_I=W2_F606W - W2_F814W\n",
    "FROM \n",
    "      SearchSumCatalog(187.706, 12.391, 500.0, 1)\n",
    "WHERE CI > 1.05 and CI < 1.5\n",
    "      and (W2_F606W - W2_F814W) > 0.0 and (W2_F606W - W2_F814W) < 1.0\n",
    "      and numimages > 50\n",
    "ORDER BY matchID \n",
    "```\n",
    "\n",
    "The SELECT command defines the columns to include in the output table (such as the RA, DEC, ID, Concentration Index, and magnitudes).\n",
    "\n",
    "The FROM command defines the query itself, and is composed of the following parts:\n",
    "\n",
    "a) The HSC function SearchSumCatalog, which is used to search the HSC around the position of M87 (187.706, 12.391) with a specified search radius (500 arcsec), and retrieve the magaper2 (magtype = 1, i.e., aperture magnitudes within a 3 pixel = 0.30 arcsec radius).\n",
    "\n",
    "b) The WHERE clause defines the search parameters\n",
    "     i) concentration index (CI = difference between magnitudes for apertures with a radius of 0.10 and 0.30 arcsec) with values between 1.05 and 1.5 (i.e., slightly extended)\n",
    "     ii) V - I (W2_F606W - W2_F814W) color betwen 0.0 and 1.0\n",
    "     iii) number of images in a match (>50).\n",
    "\n",
    "The ORDER BY defines the order of the results (i.e. by matchID).\n",
    "\n",
    "Now click *Query*. Change the context from MyDB to HSCv3 (if necessary) (<span style=\"color:blue;\">blue</span>). <span style=\"color:blue;\">Note that forgetting to change the context is the most common error causing CasJobs queries to fail</span>. Copy and paste the text from above into the blank query text box (<span style=\"color:green;\">green</span>). Click *Quick* (<span style=\"color:orange;\">orange</span>) to submit the job.\n",
    "\n",
    "Since this is a *Quick* submission, the table is not saved to MyDB, but is instead listed below. If you want to save the table, add \"INTO M87_V3\" at the end of the query (see Step 7).\n",
    "\n",
    "The table can also be downloaded to a local file using the *Save As* button (<span style=\"color:yellow;\">yellow</span>) at the bottom of the page.\n",
    "\n",
    "Another option is the Submit button, which is generally used for longer queries. The table is saved using the name in the box under \"Table (optional)\", which defaults to MyTable; change this to M87_V3 for our example. Try this. To see the table click the *MyDB* tab, select the *MyDB* context (if necessary), click on M87_V3, and click on *Sample* to see the file.\n",
    "\n",
    "![m87_casjob_query][1]\n",
    "\n",
    "\n",
    "  [1]: screenshots/m87_casjob_query.png"
   ]
  },
  {
   "cell_type": "markdown",
   "id": "5e30e31d-6a9a-44d6-9f47-7c66cd8a8e86",
   "metadata": {},
   "source": [
    "## <span style=\"color:red;\">Step 4</span> - Examine an image\n",
    "\n",
    "It is a good idea to look at the HSC overlayed on an image, to check for artifacts and uniformity. Copy the *MatchRA* and *MatchDec* values of the 7th source from your table. Open the [HLA][1] and paste those values into the search box (<span style=\"color:blue;\">blue</span>). Click *Search*.\n",
    "\n",
    "Note: The HLA displays your search coordinates in both decimal degrees and sexidecimal format (<span style=\"color:blue;\">blue</span>). This is useful if you want to find a specific object in the Interactive Display.\n",
    "\n",
    "In the *Detector* field enter \\*acs/wfc\\* (<span style=\"color:green;\">green</span>) to select just the ACS Wide Field Camera images. Click on the Display (<span style=\"color:orange;\">orange</span>) button for the F814W/F606W (color) image (or click on the Images button if you would like to look at previews of all the images).\n",
    "\n",
    "![m87_hla_inventory][2]\n",
    "\n",
    "\n",
    "  [1]: http://hla.stsci.edu/hlaview.html\n",
    "  [2]: screenshots/m87_hla_inventory.png"
   ]
  },
  {
   "cell_type": "markdown",
   "id": "2104d6ea-11a9-435b-9596-3bdc05931406",
   "metadata": {},
   "source": [
    "## <span style=\"color:red;\">Step 5</span> - Determine the value of NumImages to use\n",
    "\n",
    "*Click HSC controls, Require NumImages > 10*, and then the HSC (<span style=\"color:blue;\">blue</span>) button to overlay the HSC on this particular image. We find that NumImages > 10 leaves a number of artifacts and apparently blank circles. If you click on a few of the real objects (<span style=\"color:green;\">green</span>) you find they all have more than NumImages = 50. Some have over 200!\n",
    "\n",
    "Go back and change to *Require NumImages > 60* (<span style=\"color:orange;\">orange</span>) to remove essentially all of the artifacts (although you are still missing some objects near the center of the galaxy).\n",
    "\n",
    "*DETERMINING THE BEST VALUE OF NUMIMAGES IS OFTEN ONE OF THE MOST IMPORTANT DECISIONS YOU WILL HAVE WHEN USING THE HSC!*\n",
    "\n",
    "It is also interesting to note that there are 4 Gaia sources in the image, and they are all well aligned with HSC sources. Clicking on an object brings up the information for both the HSC and Gaia sources.\n",
    "\n",
    "![m87_2plot][1]\n",
    "\n",
    "\n",
    "  [1]: screenshots/m87_2plot.png"
   ]
  },
  {
   "cell_type": "markdown",
   "id": "30c1efde-4c22-4635-a193-6ffb0087781c",
   "metadata": {
    "tags": []
   },
   "source": [
    "## <font color=\"red\"> Rick notes</font>\n",
    "\n",
    "* Most of the information here applied to Pan-STARRS (PS1) images and is irrelevant for HST images.\n",
    "\n",
    "* The search radius is much bigger than the image requires.  Probably it would be better to compute the search radius from the image coordinates.\n",
    "\n",
    "* I'm not using this `zoom` value -- it gets reset below."
   ]
  },
  {
   "cell_type": "code",
   "execution_count": null,
   "id": "749c72ef-6fe5-44ad-ab92-82fd574e9b00",
   "metadata": {},
   "outputs": [],
   "source": [
    "filters = \"gri\"\n",
    "size_deg = 0.2\n",
    "zoom = 0.33\n",
    "\n",
    "pixel_size = 0.25 # PS1 pixel size in arcsec\n",
    "# get size in pixels from image size in degrees\n",
    "size = int(size_deg*3600/pixel_size)"
   ]
  },
  {
   "cell_type": "code",
   "execution_count": null,
   "id": "6273d2af-62e0-4261-8349-53d0d520032f",
   "metadata": {},
   "outputs": [],
   "source": [
    "# get a list of HAP images from astroquery.mast\n",
    "c = SkyCoord(ra_m87, dec_m87, unit='deg')\n",
    "obstab = Observations.query_criteria(coordinates=c, provenance_name='HAP', radius=0.0)\n",
    "print(f\"Found {len(obstab)} HAP observations\")\n",
    "# select observations for an example image\n",
    "otab = obstab[np.char.startswith(obstab['obs_id'],'hst_10543_01') & (obstab['filters']!='detection')]\n",
    "print(f\"Found {len(otab)} observations for visit hst_10543_01\")\n",
    "# sort from red to blue\n",
    "otab = otab[np.argsort(0.5*(otab['em_min']+otab['em_max']))[::-1]]\n",
    "otab['obs_id', 'em_min', 'em_max', 'filters']"
   ]
  },
  {
   "cell_type": "code",
   "execution_count": null,
   "id": "31a4be5d-c848-4190-99cf-87af491bb47f",
   "metadata": {},
   "outputs": [],
   "source": [
    "# color image\n",
    "# imtitle = '/'.join(otab['obs_id'])\n",
    "# gim = getjpegim(otab['obs_id'])\n",
    "\n",
    "# grayscale image\n",
    "imtitle = otab['obs_id'][0]\n",
    "gim = getjpegim(otab['obs_id'][:1], autoscale=98.0)\n",
    "\n",
    "print(f\"Got {gim.size} jpeg image\")\n",
    "\n",
    "# get Gaia EDR3 catalog (search a circle that just touches the image edges)\n",
    "gcat = getgaia(ra_m87, dec_m87, radius=size_deg/2)\n",
    "print(f\"Got {len(gcat)} Gaia EDR3 sources\")\n",
    "\n",
    "# extract image WCS\n",
    "iwcs = getwcs(gim)\n",
    "gcat['x'], gcat['y'] = iwcs.wcs_world2pix(gcat['ra'],gcat['dec'],0)"
   ]
  },
  {
   "cell_type": "code",
   "execution_count": null,
   "id": "d3192b44-f847-4db1-a69f-0410c2efd723",
   "metadata": {},
   "outputs": [],
   "source": [
    "\n",
    "fig, ax = plt.subplots(figsize=(10, 10))\n",
    "\n",
    "# note we must specify the extent to get the pixel origin in the lower left corner\n",
    "# The cmap applies only if the JPEG is a grayscale image.\n",
    "ax.imshow(gim, origin=\"upper\", extent=(0, gim.size[0], 0, gim.size[1]), cmap=\"afmhot\")\n",
    "\n",
    "ax.set_title(f'{target} {imtitle} (jpg)')\n",
    "\n",
    "# fix limits using the image rather than the catalog\n",
    "xlim = ax.get_xlim()\n",
    "ylim = ax.get_ylim()\n",
    "ax.plot('x', 'y', 'o', markerfacecolor='none', data=gcat)\n",
    "ax.set_xlim(xlim)\n",
    "ax.set_ylim(ylim)\n",
    "plt.show()"
   ]
  },
  {
   "cell_type": "markdown",
   "id": "197f047c-a1e0-46cc-b3d5-bb14bfef9ad9",
   "metadata": {
    "tags": []
   },
   "source": [
    "## <span style=\"color:red;\">Step 6</span>\n",
    "\n",
    "You can also use the MAST Discovery Portal to make the same query, since this is a relatively small dataset. Several other HSC Use Cases (e.g., #1: Using the Discovery Portal to Query the HSC - Stellar Photometry in M31; Brown et al. 2009) provide more detail. The Discovery Portal can also be used to make plots and to reach the HLA Interactive Display (like in Step 5).\n",
    "\n",
    "In this example we center on the coordinates of the object (<span style=\"color:blue;\">blue</span>) in the list from the CasJobs search in Step 3 to find the object with matchID = 409428 (<span style=\"color:orange;\">orange</span>). Also note that M87 has been visited 111 times using 216 different images (<span style=\"color:green;\">green</span>) in this region!\n",
    "\n",
    "![m87_dp][1]\n",
    "\n",
    "\n",
    "  [1]: screenshots/m87_dp.png"
   ]
  },
  {
   "cell_type": "code",
   "execution_count": null,
   "id": "59616d93-0a50-43fc-97df-3e53d238ecd2",
   "metadata": {},
   "outputs": [],
   "source": [
    "target = 'M87'\n",
    "coord_m87 = SkyCoord.from_name(target)\n",
    "\n",
    "ra_m87 = coord_m87.ra.degree\n",
    "dec_m87 = coord_m87.dec.degree\n",
    "radius = 120 # arcsec\n",
    "\n",
    "print(f'ra: {ra_m87}\\ndec: {dec_m87}')"
   ]
  },
  {
   "cell_type": "code",
   "execution_count": null,
   "id": "3bfc559c-09fc-47ce-a381-7b9f8718bffa",
   "metadata": {},
   "outputs": [],
   "source": [
    "HSCContext = \"HSCv3\"\n",
    "\n",
    "DBtable = \"m87\"\n",
    "jobs = mastcasjobs.MastCasJobs(context=\"MyDB\", request_type='POST')\n",
    "\n",
    "# drop table if it already exists\n",
    "jobs.drop_table_if_exists(DBtable)\n",
    "\n",
    "query = f\"\"\"\n",
    "SELECT\n",
    "      MatchRA, MatchDEC, MatchID, CI, A_F555W, A_F814W, V_I=(A_F555W - A_F814W), TargetName\n",
    "INTO\n",
    "      mydb.{DBtable}\n",
    "FROM \n",
    "     SearchSumCatalog({ra_m87},{dec_m87},{radius},1) \n",
    "WHERE numimages >= 60 AND numimages <= 216\n",
    "ORDER BY matchID\n",
    "\"\"\"\n",
    "\n",
    "# add the following line at the bottom of the query, to filter the results\n",
    "# where W2_F555W is not null and W2_F814W is not null\n",
    "\n",
    "t0 = time.time()\n",
    "results = jobs.quick(query, task_name=\"HCV demo\", context=HSCContext)\n",
    "\n",
    "print(f\"Completed in {(time.time()-t0):.1f} sec\")\n",
    "print(results)\n",
    "\n",
    "# fast retrieval using special MAST Casjobs service\n",
    "tab = jobs.fast_table(DBtable, verbose=True)\n",
    "\n",
    "tab = tab.to_pandas()\n",
    "tab.head()"
   ]
  },
  {
   "cell_type": "code",
   "execution_count": null,
   "id": "e93ae382-3a61-4753-b096-9d625ed2d39c",
   "metadata": {},
   "outputs": [],
   "source": [
    "tab[tab.MatchID.eq(7978688)]"
   ]
  },
  {
   "cell_type": "code",
   "execution_count": null,
   "id": "35992ceb-a623-45a1-be4d-1be0f06a0f6b",
   "metadata": {},
   "outputs": [],
   "source": [
    "g = sns.relplot(data=tab, x='MatchRA', y='MatchDEC', color='purple', height=8, alpha=.5, hue='TargetName')\n",
    "\n",
    "# extract the axes for the figure\n",
    "ax = g.axes.flat[0]\n",
    "\n",
    "sns.scatterplot(data=tab[tab.MatchID.eq(7978688)], x='MatchRA', y='MatchDEC', color='r', marker='X', alpha=0.5, ax=ax, s=100, label='MatchID: 409428')\n",
    "\n",
    "# remove the legend for g\n",
    "g._legend.remove()\n",
    "\n",
    "# move the legend for 408428\n",
    "sns.move_legend(ax, loc='center left', bbox_to_anchor=(1, 0.5), title='Target Name', frameon=False)\n",
    "\n",
    "g.fig.suptitle(target, y=1.05)\n",
    "\n",
    "for ax in g.axes.ravel():\n",
    "    ax.invert_xaxis()"
   ]
  },
  {
   "cell_type": "markdown",
   "id": "1a02e275-75a7-443f-ab66-7a2864e5ee69",
   "metadata": {},
   "source": [
    "### Below here can be deleted"
   ]
  },
  {
   "cell_type": "code",
   "execution_count": null,
   "id": "05be407d-5dcf-4d15-abad-514523354f31",
   "metadata": {},
   "outputs": [],
   "source": [
    "tab"
   ]
  },
  {
   "cell_type": "code",
   "execution_count": null,
   "id": "d53deaf0-92a2-4666-992a-5de7a63b3d5f",
   "metadata": {},
   "outputs": [],
   "source": [
    "c"
   ]
  },
  {
   "cell_type": "code",
   "execution_count": null,
   "id": "67316d65-1380-4fca-a8e2-624a397bfe82",
   "metadata": {},
   "outputs": [],
   "source": [
    "filters = \"gri\"\n",
    "size_deg = 0.2\n",
    "zoom = 0.33\n",
    "\n",
    "pixel_size = 0.25 # PS1 pixel size in arcsec\n",
    "# get size in pixels from image size in degrees\n",
    "size = int(size_deg*3600/pixel_size)"
   ]
  },
  {
   "cell_type": "code",
   "execution_count": null,
   "id": "640c0547-7e3d-42c7-8f8e-b39cb388cad3",
   "metadata": {},
   "outputs": [],
   "source": [
    "# get a list of HAP images from astroquery.mast\n",
    "c = SkyCoord(ra_m31, dec_m31, unit='deg')\n",
    "obstab = Observations.query_criteria(coordinates=c, provenance_name='HAP', radius=0.0)\n",
    "print(f\"Found {len(obstab)} HAP observations\")\n",
    "# select observations for an example image\n",
    "# otab = obstab[np.char.startswith(obstab['obs_id'],'hst_10543_01') & (obstab['filters']!='detection')]\n",
    "# print(f\"Found {len(otab)} observations for visit hst_10543_01\")\n",
    "# sort from red to blue\n",
    "# otab = otab[np.argsort(0.5*(otab['em_min']+otab['em_max']))[::-1]]\n",
    "# otab['obs_id', 'em_min', 'em_max', 'filters']\n",
    "\n",
    "obstab['obs_id', 'em_min', 'em_max', 'filters']"
   ]
  },
  {
   "cell_type": "code",
   "execution_count": null,
   "id": "53a50404-d8c6-4602-983e-1a6746cc2b0e",
   "metadata": {},
   "outputs": [],
   "source": [
    "otab = obstab.to_pandas()"
   ]
  },
  {
   "cell_type": "code",
   "execution_count": null,
   "id": "22d8a3d0-08a2-4cd0-a247-7e3de9891a5d",
   "metadata": {},
   "outputs": [],
   "source": [
    "otab.filter('Id')"
   ]
  },
  {
   "cell_type": "code",
   "execution_count": null,
   "id": "1fc118a4-1288-4f43-8ea1-33ec0f5679dd",
   "metadata": {},
   "outputs": [],
   "source": [
    "# color image\n",
    "# imtitle = '/'.join(otab['obs_id'])\n",
    "# gim = getjpegim(otab['obs_id'])\n",
    "\n",
    "# grayscale image\n",
    "imtitle = otab['obs_id'][0]\n",
    "gim = getjpegim(otab['obs_id'][:1], autoscale=98.0)\n",
    "\n",
    "print(f\"Got {gim.size} jpeg image\")\n",
    "\n",
    "# get Gaia EDR3 catalog (search a circle that just touches the image edges)\n",
    "gcat = getgaia(ra_m31, dec_m31, radius=size_deg/2)\n",
    "print(f\"Got {len(gcat)} Gaia EDR3 sources\")\n",
    "\n",
    "# extract image WCS\n",
    "iwcs = getwcs(gim)\n",
    "gcat['x'], gcat['y'] = iwcs.wcs_world2pix(gcat['ra'], gcat['dec'], 0)"
   ]
  },
  {
   "cell_type": "code",
   "execution_count": null,
   "id": "8de8dc7f-070d-4411-9ef5-32ddbfb1eed1",
   "metadata": {},
   "outputs": [],
   "source": [
    "gcat = gcat.to_pandas()"
   ]
  },
  {
   "cell_type": "code",
   "execution_count": null,
   "id": "3a0be1c5-f8e0-4b3e-96b8-4dfc29112ba4",
   "metadata": {},
   "outputs": [],
   "source": [
    "gcat.head()"
   ]
  },
  {
   "cell_type": "code",
   "execution_count": null,
   "id": "d4d2c377-5b12-450f-8a81-95b0fac0b056",
   "metadata": {},
   "outputs": [],
   "source": [
    "fig, ax = plt.subplots(figsize=(10, 10))\n",
    "\n",
    "# note we must specify the extent to get the pixel origin in the lower left corner\n",
    "# The cmap applies only if the JPEG is a grayscale image.\n",
    "ax.imshow(gim, origin=\"upper\", extent=(0, gim.size[0], 0, gim.size[1]), cmap=\"afmhot\")\n",
    "\n",
    "ax.set_title(f'{target} {imtitle} (jpg)')\n",
    "\n",
    "# fix limits using the image rather than the catalog\n",
    "xlim = ax.get_xlim()\n",
    "ylim = ax.get_ylim()\n",
    "ax.plot('x', 'y', 'o', markerfacecolor='none', data=gcat)\n",
    "ax.set_xlim(xlim)\n",
    "ax.set_ylim(ylim)\n",
    "plt.show()"
   ]
  }
 ],
 "metadata": {
  "kernelspec": {
   "display_name": "stsci",
   "language": "python",
   "name": "stsci"
  },
  "language_info": {
   "codemirror_mode": {
    "name": "ipython",
    "version": 3
   },
   "file_extension": ".py",
   "mimetype": "text/x-python",
   "name": "python",
   "nbconvert_exporter": "python",
   "pygments_lexer": "ipython3",
   "version": "3.10.4"
  },
  "toc-autonumbering": false
 },
 "nbformat": 4,
 "nbformat_minor": 5
}
